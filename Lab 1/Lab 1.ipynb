{
 "cells": [
  {
   "cell_type": "markdown",
   "id": "b4683668",
   "metadata": {},
   "source": [
    "# LAB 1"
   ]
  },
  {
   "cell_type": "markdown",
   "id": "2cd80b46",
   "metadata": {},
   "source": [
    "### (a)"
   ]
  },
  {
   "cell_type": "code",
   "execution_count": null,
   "id": "06e9da76",
   "metadata": {},
   "outputs": [],
   "source": [
    "def insert_sort(arr):\n",
    "    return\n",
    "def merge_sort(arr, S):\n",
    "    n = len(arr)\n",
    "\n",
    "    if n <= S:\n",
    "        arr = insert_sort\n",
    "    else:\n",
    "        l = merge_sort(arr[0, int(n/2)])\n",
    "        r = merge_sort(arr[int(n/2), n])\n",
    "\n",
    "\n",
    "        i, j = 0, 0\n",
    "        merged_lst = []\n",
    "        while (i < len(l) and j < len(r)):\n",
    "            if (l[i] <= r[j]):\n",
    "                merged_lst.append(l[i])\n",
    "                i += 1\n",
    "            elif (l[i] > r[j]):\n",
    "                merged_lst.append(r[j])\n",
    "                j += 1\n",
    "        return merged_lst\n",
    "                "
   ]
  }
 ],
 "metadata": {
  "kernelspec": {
   "display_name": "venv (3.12.9)",
   "language": "python",
   "name": "python3"
  },
  "language_info": {
   "name": "python",
   "version": "3.12.9"
  }
 },
 "nbformat": 4,
 "nbformat_minor": 5
}
