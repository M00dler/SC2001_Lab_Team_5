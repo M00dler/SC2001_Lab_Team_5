{
 "cells": [
  {
   "cell_type": "code",
   "execution_count": null,
   "id": "06e9da76",
   "metadata": {},
   "outputs": [],
   "source": [
    "def insert_sort(arr):\n",
    "    return\n",
    "def merge_sort(arr, S):\n",
    "    n = len(arr)\n",
    "\n",
    "    if n <= S:\n",
    "        arr = insert_sort\n",
    "    else:\n",
    "        l = merge_sort(arr[0, int(n/2)])\n",
    "        r = merge_sort(arr[int(n/2), n])\n",
    "\n",
    "        for i in range(len(l)):\n",
    "            for j in range(len(r)):\n",
    "                "
   ]
  }
 ],
 "metadata": {
  "kernelspec": {
   "display_name": "venv (3.12.9)",
   "language": "python",
   "name": "python3"
  },
  "language_info": {
   "name": "python",
   "version": "3.12.9"
  }
 },
 "nbformat": 4,
 "nbformat_minor": 5
}
